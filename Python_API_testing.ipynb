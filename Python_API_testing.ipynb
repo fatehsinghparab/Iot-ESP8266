{
 "cells": [
  {
   "cell_type": "code",
   "execution_count": 1,
   "id": "7ee2d1dc",
   "metadata": {},
   "outputs": [],
   "source": [
    "import requests as re\n",
    "import random\n",
    "import time"
   ]
  },
  {
   "cell_type": "code",
   "execution_count": 2,
   "id": "d068b394",
   "metadata": {},
   "outputs": [
    {
     "name": "stdout",
     "output_type": "stream",
     "text": [
      "Provide delay value after each request in SECONDS(int): 2\n",
      "Provide min dataset size in INT: 5\n"
     ]
    }
   ],
   "source": [
    "delay = int(input(\"Provide delay value after each request in SECONDS(int): \"))\n",
    "for i in reversed(range(int(input(\"Provide min dataset size in INT: \")))):\n",
    "    re.post('http://localhost:3000/esp8266', json={\"value\":random.choice(range(100))})\n",
    "    time.sleep(delay)"
   ]
  },
  {
   "cell_type": "code",
   "execution_count": null,
   "id": "fe9676ec",
   "metadata": {},
   "outputs": [],
   "source": []
  }
 ],
 "metadata": {
  "kernelspec": {
   "display_name": "Python 3",
   "language": "python",
   "name": "python3"
  },
  "language_info": {
   "codemirror_mode": {
    "name": "ipython",
    "version": 3
   },
   "file_extension": ".py",
   "mimetype": "text/x-python",
   "name": "python",
   "nbconvert_exporter": "python",
   "pygments_lexer": "ipython3",
   "version": "3.8.5"
  }
 },
 "nbformat": 4,
 "nbformat_minor": 5
}
